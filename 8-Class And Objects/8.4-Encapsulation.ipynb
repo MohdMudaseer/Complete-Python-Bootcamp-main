{
 "cells": [
  {
   "cell_type": "markdown",
   "metadata": {},
   "source": [
    "#### Encapsulation And Abstraction\n",
    "Encapsulation and abstraction are two fundamental principles of Object-Oriented Programming (OOP) that help in designing robust, maintainable, and reusable code. Encapsulation involves bundling data and methods that operate on the data within a single unit, while abstraction involves hiding complex implementation details and exposing only the necessary features."
   ]
  },
  {
   "cell_type": "markdown",
   "metadata": {},
   "source": [
    "##### Encapsulation\n",
    "Encapsulation is the concept of wrapping data (variables) and methods (functions) together as a single unit. It restricts direct access to some of the object's components, which is a means of preventing accidental interference and misuse of the data.\n"
   ]
  },
  {
   "cell_type": "markdown",
   "metadata": {},
   "source": [
    "## Public Members (public)\n",
    "> 1. These are accessible from anywhere in the program.\n",
    "> 2. Both inside and outside the class.\n",
    "> 3. There is no special syntax for public members."
   ]
  },
  {
   "cell_type": "code",
   "execution_count": 2,
   "metadata": {},
   "outputs": [
    {
     "data": {
      "text/plain": [
       "('mudaseer', 21)"
      ]
     },
     "execution_count": 2,
     "metadata": {},
     "output_type": "execute_result"
    }
   ],
   "source": [
    "# public acccess modifier\n",
    "# public variabes can be accessed any where and by anyone\n",
    "\n",
    "class Person:\n",
    "    def __init__(self,name,age):\n",
    "        self.name=name                       #public variable\n",
    "        self.age=age                         #public variable\n",
    "\n",
    "def getDetails(person):\n",
    "    return person.name,person.age\n",
    "\n",
    "person=Person(\"mudaseer\",21)\n",
    "getDetails(person)\n",
    "        "
   ]
  },
  {
   "cell_type": "code",
   "execution_count": 5,
   "metadata": {},
   "outputs": [
    {
     "data": {
      "text/plain": [
       "['__class__',\n",
       " '__delattr__',\n",
       " '__dict__',\n",
       " '__dir__',\n",
       " '__doc__',\n",
       " '__eq__',\n",
       " '__format__',\n",
       " '__ge__',\n",
       " '__getattribute__',\n",
       " '__getstate__',\n",
       " '__gt__',\n",
       " '__hash__',\n",
       " '__init__',\n",
       " '__init_subclass__',\n",
       " '__le__',\n",
       " '__lt__',\n",
       " '__module__',\n",
       " '__ne__',\n",
       " '__new__',\n",
       " '__reduce__',\n",
       " '__reduce_ex__',\n",
       " '__repr__',\n",
       " '__setattr__',\n",
       " '__sizeof__',\n",
       " '__str__',\n",
       " '__subclasshook__',\n",
       " '__weakref__',\n",
       " 'age',\n",
       " 'name']"
      ]
     },
     "execution_count": 5,
     "metadata": {},
     "output_type": "execute_result"
    }
   ],
   "source": [
    "dir(person)\n",
    "# returns the following\n",
    "# Methods and attributes defined in the class\n",
    "# Inherited methods and attributes from parent classes\n",
    "# Special (dunder) methods like __init__, __str__, __repr__, etc."
   ]
  },
  {
   "cell_type": "markdown",
   "metadata": {},
   "source": [
    "## Private Members (__private)\n",
    "> 1. Indicated by double underscores (__var).\n",
    "> 2. Not directly accessible outside the class.\n",
    "> 3. Used for data hiding to prevent accidental modification.\n",
    "> 4. Python performs name mangling (changes __var to _ClassName__var internally).\n",
    "> 5. private members (__var) are NOT inherited by child classes."
   ]
  },
  {
   "cell_type": "code",
   "execution_count": 3,
   "metadata": {},
   "outputs": [
    {
     "ename": "AttributeError",
     "evalue": "'Person' object has no attribute 'name'",
     "output_type": "error",
     "traceback": [
      "\u001b[1;31m---------------------------------------------------------------------------\u001b[0m",
      "\u001b[1;31mAttributeError\u001b[0m                            Traceback (most recent call last)",
      "Cell \u001b[1;32mIn[3], line 12\u001b[0m\n\u001b[0;32m      9\u001b[0m     \u001b[38;5;28;01mreturn\u001b[39;00m person\u001b[38;5;241m.\u001b[39mname,person\u001b[38;5;241m.\u001b[39mage\n\u001b[0;32m     11\u001b[0m person\u001b[38;5;241m=\u001b[39mPerson(\u001b[38;5;124m\"\u001b[39m\u001b[38;5;124mmudaseer\u001b[39m\u001b[38;5;124m\"\u001b[39m,\u001b[38;5;241m21\u001b[39m)\n\u001b[1;32m---> 12\u001b[0m \u001b[43mgetDetails\u001b[49m\u001b[43m(\u001b[49m\u001b[43mperson\u001b[49m\u001b[43m)\u001b[49m\n",
      "Cell \u001b[1;32mIn[3], line 9\u001b[0m, in \u001b[0;36mgetDetails\u001b[1;34m(person)\u001b[0m\n\u001b[0;32m      8\u001b[0m \u001b[38;5;28;01mdef\u001b[39;00m \u001b[38;5;21mgetDetails\u001b[39m(person):\n\u001b[1;32m----> 9\u001b[0m     \u001b[38;5;28;01mreturn\u001b[39;00m \u001b[43mperson\u001b[49m\u001b[38;5;241;43m.\u001b[39;49m\u001b[43mname\u001b[49m,person\u001b[38;5;241m.\u001b[39mage\n",
      "\u001b[1;31mAttributeError\u001b[0m: 'Person' object has no attribute 'name'"
     ]
    }
   ],
   "source": [
    "# private variables\n",
    "\n",
    "class Person:\n",
    "    def __init__(self,name,age):\n",
    "        self.__name=name                              #private variable\n",
    "        self.__age=age                                # private variable\n",
    "    \n",
    "\n",
    "def getDetails(person):\n",
    "    return person.name,person.age\n",
    "\n",
    "person=Person(\"mudaseer\",21)\n",
    "getDetails(person)\n",
    "\n",
    "\n"
   ]
  },
  {
   "cell_type": "code",
   "execution_count": 5,
   "metadata": {},
   "outputs": [
    {
     "data": {
      "text/plain": [
       "['_Person__age',\n",
       " '_Person__name',\n",
       " '__class__',\n",
       " '__delattr__',\n",
       " '__dict__',\n",
       " '__dir__',\n",
       " '__doc__',\n",
       " '__eq__',\n",
       " '__format__',\n",
       " '__ge__',\n",
       " '__getattribute__',\n",
       " '__getstate__',\n",
       " '__gt__',\n",
       " '__hash__',\n",
       " '__init__',\n",
       " '__init_subclass__',\n",
       " '__le__',\n",
       " '__lt__',\n",
       " '__module__',\n",
       " '__ne__',\n",
       " '__new__',\n",
       " '__reduce__',\n",
       " '__reduce_ex__',\n",
       " '__repr__',\n",
       " '__setattr__',\n",
       " '__sizeof__',\n",
       " '__str__',\n",
       " '__subclasshook__',\n",
       " '__weakref__']"
      ]
     },
     "execution_count": 5,
     "metadata": {},
     "output_type": "execute_result"
    }
   ],
   "source": [
    "dir(person)\n",
    "# self.__name is sored as _Person_name in its directory as it is a private variable same for any other private variables"
   ]
  },
  {
   "cell_type": "code",
   "execution_count": 9,
   "metadata": {},
   "outputs": [
    {
     "ename": "NameError",
     "evalue": "name '_Employee__name' is not defined",
     "output_type": "error",
     "traceback": [
      "\u001b[1;31m---------------------------------------------------------------------------\u001b[0m",
      "\u001b[1;31mNameError\u001b[0m                                 Traceback (most recent call last)",
      "Cell \u001b[1;32mIn[9], line 14\u001b[0m\n\u001b[0;32m     11\u001b[0m \u001b[38;5;28;01mdef\u001b[39;00m \u001b[38;5;21mgetDetails\u001b[39m(person):\n\u001b[0;32m     12\u001b[0m     \u001b[38;5;28;01mreturn\u001b[39;00m person\u001b[38;5;241m.\u001b[39mname,person\u001b[38;5;241m.\u001b[39mage\n\u001b[1;32m---> 14\u001b[0m employee\u001b[38;5;241m=\u001b[39m\u001b[43mEmployee\u001b[49m\u001b[43m(\u001b[49m\u001b[38;5;124;43m\"\u001b[39;49m\u001b[38;5;124;43mnehal\u001b[39;49m\u001b[38;5;124;43m\"\u001b[39;49m\u001b[43m,\u001b[49m\u001b[38;5;241;43m21\u001b[39;49m\u001b[43m)\u001b[49m\n\u001b[0;32m     15\u001b[0m getDetails(employee)\n\u001b[0;32m     16\u001b[0m person\u001b[38;5;241m=\u001b[39mPerson(\u001b[38;5;124m\"\u001b[39m\u001b[38;5;124mmudaseer\u001b[39m\u001b[38;5;124m\"\u001b[39m,\u001b[38;5;241m21\u001b[39m)\n",
      "Cell \u001b[1;32mIn[9], line 9\u001b[0m, in \u001b[0;36mEmployee.__init__\u001b[1;34m(self, name, age)\u001b[0m\n\u001b[0;32m      8\u001b[0m \u001b[38;5;28;01mdef\u001b[39;00m \u001b[38;5;21m__init__\u001b[39m(\u001b[38;5;28mself\u001b[39m, name, age):\n\u001b[1;32m----> 9\u001b[0m     \u001b[38;5;28msuper\u001b[39m()\u001b[38;5;241m.\u001b[39m\u001b[38;5;21m__init__\u001b[39m(\u001b[43m__name\u001b[49m, __age)\n",
      "\u001b[1;31mNameError\u001b[0m: name '_Employee__name' is not defined"
     ]
    }
   ],
   "source": [
    "# trying to use in its derived class\n",
    "class Person:\n",
    "    def __init__(self,name,age):\n",
    "        self.__name=name                              #private variable\n",
    "        self.__age=age                                # private variable\n",
    "\n",
    "class Employee(Person):\n",
    "    def __init__(self, name, age):\n",
    "        super().__init__(__name, __age)\n",
    "\n",
    "def getDetails(person):\n",
    "    return person.name,person.age\n",
    "\n",
    "employee=Employee(\"nehal\",21)\n",
    "getDetails(employee)\n",
    "person=Person(\"mudaseer\",21)\n",
    "getDetails(person)"
   ]
  },
  {
   "cell_type": "code",
   "execution_count": 10,
   "metadata": {},
   "outputs": [
    {
     "name": "stdout",
     "output_type": "stream",
     "text": [
      "Cannot access private variable directly\n",
      "I am a private variable\n"
     ]
    }
   ],
   "source": [
    "class Parent:\n",
    "    def __init__(self):\n",
    "        self.__private_var = \"I am a private variable\"\n",
    "\n",
    "    def __private_method(self):\n",
    "        return \"I am a private method\"\n",
    "\n",
    "class Child(Parent):\n",
    "    def show_private(self):\n",
    "        # return self.__private_var  # ❌ Error: Cannot access private variable\n",
    "        return \"Cannot access private variable directly\"\n",
    "\n",
    "# Create object of child class\n",
    "child_obj = Child()\n",
    "\n",
    "# Trying to access private member in derived class (Causes error)\n",
    "# print(child_obj.__private_var)   # ❌ AttributeError\n",
    "\n",
    "print(child_obj.show_private())   # ✅ Indirectly handled\n",
    "\n",
    "# Name mangling can still be used (not recommended)\n",
    "print(child_obj._Parent__private_var)  # ⚠️ Possible but breaks encapsulation\n"
   ]
  },
  {
   "cell_type": "markdown",
   "metadata": {},
   "source": [
    "## Protected Members (_protected)\n",
    "> 1. Indicated by a single underscore (_var).\n",
    "> 2. Meant to be used within the class and its subclasses.\n",
    "> 3. Can still be accessed outside the class (not strictly enforced).\n",
    "> 4. Used to indicate that it is intended for internal use."
   ]
  },
  {
   "cell_type": "code",
   "execution_count": 13,
   "metadata": {},
   "outputs": [
    {
     "name": "stdout",
     "output_type": "stream",
     "text": [
      "I am a protected variable\n",
      "I am a protected variable\n",
      "I am a protected method\n"
     ]
    }
   ],
   "source": [
    "class Parent:\n",
    "    def __init__(self):\n",
    "        self._protected_var = \"I am a protected variable\"  # Protected attribute\n",
    "\n",
    "    def _protected_method(self):\n",
    "        return \"I am a protected method\"\n",
    "\n",
    "class Child(Parent):\n",
    "    def access_protected(self):\n",
    "        return self._protected_var  # Accessing protected member\n",
    "\n",
    "# Create objects\n",
    "obj = Parent()\n",
    "child_obj = Child()\n",
    "\n",
    "# Access protected members (not recommended but possible)\n",
    "print(obj._protected_var)         # ⚠️ Accessible but not recommended\n",
    "print(child_obj.access_protected()) # ✅ Accessed within subclass\n",
    "print(obj._protected_method())     # ⚠️ Accessible but should be used only inside class\n"
   ]
  },
  {
   "cell_type": "code",
   "execution_count": 14,
   "metadata": {},
   "outputs": [
    {
     "data": {
      "text/plain": [
       "['__class__',\n",
       " '__delattr__',\n",
       " '__dict__',\n",
       " '__dir__',\n",
       " '__doc__',\n",
       " '__eq__',\n",
       " '__format__',\n",
       " '__ge__',\n",
       " '__getattribute__',\n",
       " '__getstate__',\n",
       " '__gt__',\n",
       " '__hash__',\n",
       " '__init__',\n",
       " '__init_subclass__',\n",
       " '__le__',\n",
       " '__lt__',\n",
       " '__module__',\n",
       " '__ne__',\n",
       " '__new__',\n",
       " '__reduce__',\n",
       " '__reduce_ex__',\n",
       " '__repr__',\n",
       " '__setattr__',\n",
       " '__sizeof__',\n",
       " '__str__',\n",
       " '__subclasshook__',\n",
       " '__weakref__',\n",
       " '_protected_method',\n",
       " '_protected_var',\n",
       " 'access_protected']"
      ]
     },
     "execution_count": 14,
     "metadata": {},
     "output_type": "execute_result"
    }
   ],
   "source": [
    "dir(child_obj)"
   ]
  },
  {
   "cell_type": "markdown",
   "metadata": {},
   "source": [
    "## Getters an setters"
   ]
  },
  {
   "cell_type": "code",
   "execution_count": 17,
   "metadata": {},
   "outputs": [
    {
     "name": "stdout",
     "output_type": "stream",
     "text": [
      "Alice\n",
      "25\n",
      "Bob\n",
      "30\n"
     ]
    }
   ],
   "source": [
    "# using regular methods\n",
    "class Person:\n",
    "    def __init__(self, name, age):\n",
    "        self.__name = name      # Private attribute\n",
    "        self.__age = age        # Private attribute\n",
    "\n",
    "    # Getter for name\n",
    "    def get_name(self):\n",
    "        return self.__name\n",
    "\n",
    "    # Setter for name\n",
    "    def set_name(self, new_name):\n",
    "        if isinstance(new_name, str) and len(new_name) > 0:\n",
    "            self.__name = new_name\n",
    "        else:\n",
    "            raise ValueError(\"Name must be a non-empty string\")\n",
    "\n",
    "    # Getter for age\n",
    "    def get_age(self):\n",
    "        return self.__age\n",
    "\n",
    "    # Setter for age\n",
    "    def set_age(self, new_age):\n",
    "        if isinstance(new_age, int) and new_age > 0:\n",
    "            self.__age = new_age\n",
    "        else:\n",
    "            raise ValueError(\"Age must be a positive integer\")\n",
    "\n",
    "# Create an object\n",
    "person = Person(\"Alice\", 25)\n",
    "\n",
    "# Access private members using getters\n",
    "print(person.get_name())  # ✅ Alice\n",
    "print(person.get_age())   # ✅ 25\n",
    "\n",
    "# Modify private members using setters\n",
    "person.set_name(\"Bob\")\n",
    "person.set_age(30)\n",
    "\n",
    "print(person.get_name())  # ✅ Bob\n",
    "print(person.get_age())   # ✅ 30\n",
    "\n",
    "# Trying to set invalid age\n",
    "# person.set_age(-5)  # ❌ Raises ValueError: Age must be a positive integer\n",
    "\n"
   ]
  },
  {
   "cell_type": "code",
   "execution_count": 24,
   "metadata": {},
   "outputs": [
    {
     "name": "stdout",
     "output_type": "stream",
     "text": [
      "Alice\n",
      "25\n",
      "mudaseer\n",
      "21\n"
     ]
    }
   ],
   "source": [
    "# using property() function\n",
    "class Person:\n",
    "    def __init__(self, name, age):\n",
    "        self.__name = name      # Private attribute\n",
    "        self.__age = age        # Private attribute\n",
    "\n",
    "    # Getter for name\n",
    "    def get_name(self):\n",
    "        return self.__name\n",
    "\n",
    "    # Setter for name\n",
    "    def set_name(self, new_name):\n",
    "        if isinstance(new_name, str) and len(new_name) > 0:\n",
    "            self.__name = new_name\n",
    "        else:\n",
    "            raise ValueError(\"Name must be a non-empty string\")\n",
    "\n",
    "    # Getter for age\n",
    "    def get_age(self):\n",
    "        return self.__age\n",
    "\n",
    "    # Setter for age\n",
    "    def set_age(self, new_age):\n",
    "        if isinstance(new_age, int) and new_age > 0:\n",
    "            self.__age = new_age\n",
    "        else:\n",
    "            raise ValueError(\"Age must be a positive integer\")\n",
    "    name=property(get_name,set_name)\n",
    "    age=property(get_age,set_age)\n",
    "\n",
    "# Create an object\n",
    "person = Person(\"Alice\", 25)\n",
    "\n",
    "print(person.name)             # calls get_name()\n",
    "person.name='mudaseer'         # calls set_name()\n",
    "\n",
    "print(person.age)              # calls get_age()\n",
    "person.age=21                  # calls set_age()\n",
    "\n",
    "print(person.name)\n",
    "print(person.age)\n",
    "\n",
    "# Trying to set invalid age\n",
    "# person.set_age(-5)  # ❌ Raises ValueError: Age must be a positive integer\n"
   ]
  },
  {
   "cell_type": "code",
   "execution_count": 34,
   "metadata": {},
   "outputs": [
    {
     "name": "stdout",
     "output_type": "stream",
     "text": [
      "Alice\n",
      "25\n",
      "bob\n",
      "23\n"
     ]
    }
   ],
   "source": [
    "# using @property decorator\n",
    "\n",
    "class Person:\n",
    "    def __init__(self, name, age):\n",
    "        self.__name = name      # Private attribute\n",
    "        self.__age = age        # Private attribute\n",
    "     \n",
    "    # getter using @property\n",
    "    @property\n",
    "    def name(self):\n",
    "        return self.__name\n",
    "    \n",
    "    # Setter using @name.setter\n",
    "    @name.setter\n",
    "    def name(self, new_name):\n",
    "        if isinstance(new_name, str) and len(new_name) > 0:\n",
    "            self.__name = new_name\n",
    "        else:\n",
    "            raise ValueError(\"Name must be a non-empty string\")\n",
    "\n",
    "    # getter using @propery\n",
    "    @property\n",
    "    def age(self):\n",
    "        return self.__age\n",
    "\n",
    "    # Setter using @age.setter\n",
    "    @age.setter\n",
    "    def age(self, new_age):\n",
    "        if isinstance(new_age, int) and new_age > 0:\n",
    "            self.__age = new_age\n",
    "        else:\n",
    "            raise ValueError(\"Age must be a positive integer\")\n",
    "\n",
    "# Create an object\n",
    "person = Person(\"Alice\", 25)\n",
    "\n",
    "# Access private members using getters\n",
    "print(person.name)\n",
    "print(person.age)\n",
    "\n",
    "# Modify private members using setters\n",
    "person.name=\"bob\"\n",
    "person.age=23\n",
    "\n",
    "print(person.name)  # ✅ Bob\n",
    "print(person.age)   # ✅ 30\n",
    "\n",
    "# Trying to set invalid age\n",
    "# person.set_age(-5)  # ❌ Raises ValueError: Age must be a positive integer"
   ]
  },
  {
   "cell_type": "code",
   "execution_count": 35,
   "metadata": {},
   "outputs": [
    {
     "name": "stdout",
     "output_type": "stream",
     "text": [
      "tiger\n",
      "buddy\n"
     ]
    }
   ],
   "source": [
    "class Animal_pet:\n",
    "    def __init__(self,name,age,gender):\n",
    "        self.__name=name\n",
    "        self.__age=age\n",
    "        self.__gender=gender\n",
    "\n",
    "    @property\n",
    "    def name(self):\n",
    "        return self.__name\n",
    "    @name.setter\n",
    "    def name(self,new_name):\n",
    "        if isinstance(new_name,str) and len(new_name)>0 :\n",
    "            self.__name=new_name\n",
    "    \n",
    "pet=Animal_pet('tiger',3,'male')\n",
    "print(pet.name)\n",
    "pet.name='buddy'\n",
    "print(pet.name)"
   ]
  },
  {
   "cell_type": "code",
   "execution_count": null,
   "metadata": {},
   "outputs": [],
   "source": []
  }
 ],
 "metadata": {
  "kernelspec": {
   "display_name": "Python 3",
   "language": "python",
   "name": "python3"
  },
  "language_info": {
   "codemirror_mode": {
    "name": "ipython",
    "version": 3
   },
   "file_extension": ".py",
   "mimetype": "text/x-python",
   "name": "python",
   "nbconvert_exporter": "python",
   "pygments_lexer": "ipython3",
   "version": "3.12.2"
  }
 },
 "nbformat": 4,
 "nbformat_minor": 2
}
