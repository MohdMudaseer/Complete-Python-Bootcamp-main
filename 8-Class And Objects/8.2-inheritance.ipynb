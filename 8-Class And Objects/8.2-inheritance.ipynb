{
 "cells": [
  {
   "cell_type": "markdown",
   "metadata": {},
   "source": [
    "#### Inheritance In Python\n",
    "Inheritance is a fundamental concept in Object-Oriented Programming (OOP) that allows a class to inherit attributes and methods from another class. This lesson covers single inheritance and multiple inheritance, demonstrating how to create and use them in Python."
   ]
  },
  {
   "cell_type": "code",
   "execution_count": 1,
   "metadata": {},
   "outputs": [],
   "source": [
    "## Inheritance (Single Inheritance)\n",
    "## Parent class\n",
    "class Car:\n",
    "    def __init__(self,windows,doors,enginetype):\n",
    "        self.windows=windows\n",
    "        self.doors=doors\n",
    "        self.enginetype=enginetype\n",
    "    \n",
    "    def drive(self):\n",
    "        print(f\"The person will drive the {self.enginetype} car \")\n"
   ]
  },
  {
   "cell_type": "code",
   "execution_count": 3,
   "metadata": {},
   "outputs": [
    {
     "name": "stdout",
     "output_type": "stream",
     "text": [
      "The person will drive the petrol car \n"
     ]
    }
   ],
   "source": [
    "car1=Car(4,5,\"petrol\")\n",
    "car1.drive()"
   ]
  },
  {
   "cell_type": "code",
   "execution_count": 4,
   "metadata": {},
   "outputs": [],
   "source": [
    "class Tesla(Car):\n",
    "    def __init__(self,windows,doors,enginetype,is_selfdriving):\n",
    "        super().__init__(windows,doors,enginetype)\n",
    "        self.is_selfdriving=is_selfdriving\n",
    "\n",
    "    def selfdriving(self):\n",
    "        print(f\"Tesla supports self driving : {self.is_selfdriving}\")"
   ]
  },
  {
   "cell_type": "code",
   "execution_count": 6,
   "metadata": {},
   "outputs": [
    {
     "name": "stdout",
     "output_type": "stream",
     "text": [
      "Tesla supports self driving : True\n"
     ]
    }
   ],
   "source": [
    "tesla1=Tesla(4,5,\"electric\",True)\n",
    "tesla1.selfdriving()"
   ]
  },
  {
   "cell_type": "code",
   "execution_count": 7,
   "metadata": {},
   "outputs": [
    {
     "name": "stdout",
     "output_type": "stream",
     "text": [
      "The person will drive the electric car \n"
     ]
    }
   ],
   "source": [
    "tesla1.drive()"
   ]
  },
  {
   "cell_type": "code",
   "execution_count": 9,
   "metadata": {},
   "outputs": [
    {
     "name": "stdout",
     "output_type": "stream",
     "text": [
      "Buddy say woof\n",
      "Owner:Krish\n"
     ]
    }
   ],
   "source": [
    "### Multiple Inheritance\n",
    "## When a class inherits from more than one base class.\n",
    "## Base class 1\n",
    "class Animal:\n",
    "    def __init__(self,name):\n",
    "        self.name=name\n",
    "\n",
    "    def speak(self):\n",
    "        print(\"Subclass must implement this method\")\n",
    "\n",
    "## BAse class 2\n",
    "class Pet:\n",
    "    def __init__(self, owner):\n",
    "        self.owner = owner\n",
    "\n",
    "\n",
    "##Derived class\n",
    "class Dog(Animal,Pet):\n",
    "    def __init__(self,name,owner):\n",
    "        Animal.__init__(self,name)\n",
    "        Pet.__init__(self,owner)\n",
    "\n",
    "    def speak(self):\n",
    "        return f\"{self.name} say woof\"\n",
    "    \n",
    "\n",
    "## Create an object\n",
    "dog=Dog(\"Buddy\",\"Krish\")\n",
    "print(dog.speak())\n",
    "print(f\"Owner:{dog.owner}\")\n",
    "\n",
    "\n"
   ]
  },
  {
   "cell_type": "markdown",
   "metadata": {},
   "source": [
    "#### Conclusion\n",
    "Inheritance is a powerful feature in OOP that allows for code reuse and the creation of a more logical class structure. Single inheritance involves one base class, while multiple inheritance involves more than one base class. Understanding how to implement and use inheritance in Python will enable you to design more efficient and maintainable object-oriented programs."
   ]
  },
  {
   "cell_type": "markdown",
   "metadata": {},
   "source": [
    "### Practice"
   ]
  },
  {
   "cell_type": "code",
   "execution_count": 16,
   "metadata": {},
   "outputs": [
    {
     "name": "stdout",
     "output_type": "stream",
     "text": [
      "car has petrol engine\n"
     ]
    }
   ],
   "source": [
    "class car:\n",
    "    def __init__(self,windows,doors,enginetype):\n",
    "        self._windows=windows\n",
    "        self._doors=doors\n",
    "        self._enginetype=enginetype\n",
    "    def drive(self):\n",
    "        print(f\"car has {self._enginetype} engine\")\n",
    "car1=car(2,3,\"petrol\")\n",
    "car1.drive()"
   ]
  },
  {
   "cell_type": "code",
   "execution_count": 17,
   "metadata": {},
   "outputs": [],
   "source": [
    "class Tesla(car):\n",
    "    def __init__(self, windows, doors, enginetype,is_self_driving):\n",
    "        super().__init__(windows, doors, enginetype)\n",
    "        self.is_self_driving=is_self_driving\n",
    "    def selfDrive(self):\n",
    "        print(f\"Supporsts self driving : {self.is_self_driving}\")"
   ]
  },
  {
   "cell_type": "code",
   "execution_count": 21,
   "metadata": {},
   "outputs": [
    {
     "name": "stdout",
     "output_type": "stream",
     "text": [
      "car has electric engine\n",
      "Supporsts self driving : False\n"
     ]
    }
   ],
   "source": [
    "tesla1=Tesla(2,5,'electric',False)\n",
    "tesla1.drive()\n",
    "tesla1.selfDrive()"
   ]
  },
  {
   "cell_type": "code",
   "execution_count": 33,
   "metadata": {},
   "outputs": [
    {
     "name": "stdout",
     "output_type": "stream",
     "text": [
      "sub class implements this\n",
      "None\n",
      "<__main__.Pet object at 0x00000201A7324D10>\n"
     ]
    },
    {
     "data": {
      "text/plain": [
       "'buddy says woof wooof!'"
      ]
     },
     "execution_count": 33,
     "metadata": {},
     "output_type": "execute_result"
    }
   ],
   "source": [
    "# multiple inheritance\n",
    "class Animal:\n",
    "    def __init__(self,name):\n",
    "        self.name=name\n",
    "    def speaks(self):\n",
    "        print(f'sub class implements this')\n",
    "class Pet :\n",
    "    def __init__(self,owner):\n",
    "        self.owner=owner\n",
    "\n",
    "class Dog(Animal, Pet):\n",
    "    def __init__(self,name,owner):\n",
    "        Animal.__init__(self,name)\n",
    "        Pet.__init__(self,owner)\n",
    "    def speaks(self):\n",
    "        return f\"{self.name} says woof wooof!\"\n",
    "a=Animal(\"buddy\")\n",
    "print(a.speaks())\n",
    "b=Pet(owner=\"mudaseer\")\n",
    "print(b)\n",
    "d1=Dog('buddy',owner='mudaseer')\n",
    "d1.speaks()\n"
   ]
  },
  {
   "cell_type": "code",
   "execution_count": null,
   "metadata": {},
   "outputs": [],
   "source": []
  },
  {
   "cell_type": "code",
   "execution_count": null,
   "metadata": {},
   "outputs": [],
   "source": []
  },
  {
   "cell_type": "code",
   "execution_count": null,
   "metadata": {},
   "outputs": [],
   "source": []
  },
  {
   "cell_type": "code",
   "execution_count": 13,
   "metadata": {},
   "outputs": [
    {
     "name": "stdout",
     "output_type": "stream",
     "text": [
      "+------+---------+-------+\n",
      "|   ID | Name    |   Age |\n",
      "+======+=========+=======+\n",
      "|    1 | Alice   |    23 |\n",
      "+------+---------+-------+\n",
      "|    2 | Bob     |    30 |\n",
      "+------+---------+-------+\n",
      "|    3 | Charlie |    27 |\n",
      "+------+---------+-------+\n",
      "\n",
      "Shape: (3, 3)\n",
      "\n",
      "After adding 'Salary' column:\n",
      " +------+---------+-------+----------+\n",
      "|   ID | Name    |   Age |   Salary |\n",
      "+======+=========+=======+==========+\n",
      "|    1 | Alice   |    23 |    50000 |\n",
      "+------+---------+-------+----------+\n",
      "|    2 | Bob     |    30 |    60000 |\n",
      "+------+---------+-------+----------+\n",
      "|    3 | Charlie |    27 |    55000 |\n",
      "+------+---------+-------+----------+\n",
      "\n",
      "Column 'Name': ['Alice', 'Bob', 'Charlie']\n",
      "\n",
      "Row 1: {'ID': 2, 'Name': 'Bob', 'Age': 30, 'Salary': 60000}\n"
     ]
    }
   ],
   "source": [
    "from tabulate import tabulate\n",
    "\n",
    "class MyDataFrame:\n",
    "    def __init__(self, data=None, columns=None):\n",
    "        \"\"\"\n",
    "        Initializes the custom DataFrame object.\n",
    "        :param data: List of lists or dictionary containing tabular data.\n",
    "        :param columns: List of column names (optional for lists, required for dictionaries).\n",
    "        \"\"\"\n",
    "        if isinstance(data, dict):\n",
    "            self.data = data\n",
    "        elif isinstance(data, list):\n",
    "            if columns is None:\n",
    "                raise ValueError(\"Column names must be provided when using list data.\")\n",
    "            self.data = {columns[i]: [row[i] for row in data] for i in range(len(columns))}\n",
    "        else:\n",
    "            self.data = {}\n",
    "\n",
    "        self.columns = list(self.data.keys())  # Store column names\n",
    "\n",
    "    def __repr__(self):\n",
    "        \"\"\"Returns a string representation of the DataFrame using tabulate.\"\"\"\n",
    "        if not self.data:\n",
    "            return \"Empty DataFrame\"\n",
    "        rows = list(zip(*[self.data[col] for col in self.columns]))\n",
    "        return tabulate(rows, headers=self.columns, tablefmt=\"grid\")\n",
    "\n",
    "    def shape(self):\n",
    "        \"\"\"Returns the shape (rows, columns) of the DataFrame.\"\"\"\n",
    "        if not self.data:\n",
    "            return (0, 0)\n",
    "        return (len(next(iter(self.data.values()))), len(self.columns))\n",
    "\n",
    "    def add_column(self, column_name, values):\n",
    "        \"\"\"Adds a new column to the DataFrame.\"\"\"\n",
    "        if len(values) != self.shape()[0]:\n",
    "            raise ValueError(\"Column length must match existing row count.\")\n",
    "        self.data[column_name] = values\n",
    "        self.columns.append(column_name)\n",
    "\n",
    "    def get_column(self, column_name):\n",
    "        \"\"\"Returns a column by name.\"\"\"\n",
    "        return self.data.get(column_name, None)\n",
    "\n",
    "    def get_row(self, index):\n",
    "        \"\"\"Returns a row by index.\"\"\"\n",
    "        if index >= self.shape()[0] or index < 0:\n",
    "            raise IndexError(\"Index out of range\")\n",
    "        return {col: self.data[col][index] for col in self.columns}\n",
    "\n",
    "\n",
    "# Example Usage\n",
    "data = [\n",
    "    [1, \"Alice\", 23],\n",
    "    [2, \"Bob\", 30],\n",
    "    [3, \"Charlie\", 27]\n",
    "]\n",
    "columns = [\"ID\", \"Name\", \"Age\"]\n",
    "\n",
    "df = MyDataFrame(data, columns)\n",
    "print(df)  # Display DataFrame\n",
    "print(\"\\nShape:\", df.shape())  # Get shape\n",
    "df.add_column(\"Salary\", [50000, 60000, 55000])  # Add new column\n",
    "print(\"\\nAfter adding 'Salary' column:\\n\", df)\n",
    "print(\"\\nColumn 'Name':\", df.get_column(\"Name\"))  # Get specific column\n",
    "print(\"\\nRow 1:\", df.get_row(1))  # Get a specific row\n"
   ]
  },
  {
   "cell_type": "code",
   "execution_count": null,
   "metadata": {},
   "outputs": [],
   "source": []
  },
  {
   "cell_type": "code",
   "execution_count": null,
   "metadata": {},
   "outputs": [],
   "source": []
  },
  {
   "cell_type": "code",
   "execution_count": null,
   "metadata": {},
   "outputs": [],
   "source": []
  }
 ],
 "metadata": {
  "kernelspec": {
   "display_name": "Python 3",
   "language": "python",
   "name": "python3"
  },
  "language_info": {
   "codemirror_mode": {
    "name": "ipython",
    "version": 3
   },
   "file_extension": ".py",
   "mimetype": "text/x-python",
   "name": "python",
   "nbconvert_exporter": "python",
   "pygments_lexer": "ipython3",
   "version": "3.12.2"
  }
 },
 "nbformat": 4,
 "nbformat_minor": 2
}
